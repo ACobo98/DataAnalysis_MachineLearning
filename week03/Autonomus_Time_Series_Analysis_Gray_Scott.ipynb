{
 "cells": [
  {
   "cell_type": "markdown",
   "id": "48aa35d0",
   "metadata": {},
   "source": [
    "# 🧾 Time Series Analysis – Gray–Scott Reaction–Diffusion\n",
    "\n",
    "## **1. Objective**\n",
    "Analyze a real spatiotemporal dataset (Gray–Scott reaction–diffusion) using autocorrelation, ARIMA, Fourier Transform, and Wavelet Transform."
   ]
  },
  {
   "cell_type": "markdown",
   "id": "81187d25",
   "metadata": {},
   "source": [
    "## **2. Load Packages**\n",
    "Install and import the required Python packages."
   ]
  },
  {
   "cell_type": "code",
   "execution_count": null,
   "id": "fa3edd82",
   "metadata": {},
   "outputs": [],
   "source": []
  },
  {
   "cell_type": "markdown",
   "id": "0a39578f",
   "metadata": {},
   "source": [
    "## **3. Download Dataset**\n",
    "Use the tutorial from [The Well GitHub repository](https://github.com/PolymathicAI/the_well/blob/master/docs/tutorials/dataset.ipynb) to load the dataset `gray_scott_reaction_diffusion`."
   ]
  },
  {
   "cell_type": "code",
   "execution_count": null,
   "id": "22d3c763",
   "metadata": {},
   "outputs": [],
   "source": []
  },
  {
   "cell_type": "markdown",
   "id": "a7e69af2",
   "metadata": {},
   "source": [
    "## **4. Select a Random Trajectory**\n",
    "- The dataset has 120 repetitions.\n",
    "- Select a random number `n` between 0 and 119.\n",
    "- Extract the trajectory using:\n",
    "\n",
    "```python\n",
    "x = dataset[n][\"input_fields\"]\n",
    "```\n",
    "- Confirm that `x` has shape `(2, 1000, 128, 128)`."
   ]
  },
  {
   "cell_type": "code",
   "execution_count": null,
   "id": "c04dfe0e",
   "metadata": {},
   "outputs": [],
   "source": []
  },
  {
   "cell_type": "markdown",
   "id": "aea4b523",
   "metadata": {},
   "source": [
    "## **5. Extract Random Points**\n",
    "- Choose **3–5 random spatial points** `(i, j)` in the 128×128 grid.\n",
    "- For each point, extract the **concentration of A**:\n",
    "\n",
    "```python\n",
    "series = x[0, :, i, j]\n",
    "```\n",
    "- **Important:** In many cases, the time series will be almost flat and not very interesting.\n",
    "  Play with different random points until you find curves with visible dynamics or patterns to analyze.\n",
    "- Plot the time series for each selected point."
   ]
  },
  {
   "cell_type": "code",
   "execution_count": null,
   "id": "6f6726d5",
   "metadata": {},
   "outputs": [],
   "source": []
  },
  {
   "cell_type": "markdown",
   "id": "a52bece9",
   "metadata": {},
   "source": [
    "## **6. Autocorrelation Analysis**\n",
    "- Compute and plot the autocorrelation function for each selected point.\n",
    "- Interpret whether the signal is strongly correlated over time."
   ]
  },
  {
   "cell_type": "code",
   "execution_count": null,
   "id": "7a09084b",
   "metadata": {},
   "outputs": [],
   "source": []
  },
  {
   "cell_type": "markdown",
   "id": "5038af24",
   "metadata": {},
   "source": [
    "## **7. ARIMA Modeling**\n",
    "- Fit an ARIMA model to each time series.\n",
    "- Compare different `(p, d, q)` orders and choose the best using AIC.\n",
    "- Plot the original series and fitted values."
   ]
  },
  {
   "cell_type": "code",
   "execution_count": null,
   "id": "46521cc3",
   "metadata": {},
   "outputs": [],
   "source": []
  },
  {
   "cell_type": "markdown",
   "id": "c9c78e05",
   "metadata": {},
   "source": [
    "## **8. Fourier Transform**\n",
    "- Apply the FFT to each time series.\n",
    "- Plot the frequency spectrum.\n",
    "- Identify dominant frequencies and discuss physical meaning."
   ]
  },
  {
   "cell_type": "code",
   "execution_count": null,
   "id": "7b6f2cc2",
   "metadata": {},
   "outputs": [],
   "source": []
  },
  {
   "cell_type": "markdown",
   "id": "df629903",
   "metadata": {},
   "source": [
    "## **9. Wavelet Transform**\n",
    "- Perform a Continuous Wavelet Transform (CWT) using a Morlet or Complex Morlet wavelet.\n",
    "- Plot the scalogram.\n",
    "- Highlight when and where bursts of activity occur."
   ]
  },
  {
   "cell_type": "code",
   "execution_count": null,
   "id": "423caa48",
   "metadata": {},
   "outputs": [],
   "source": []
  },
  {
   "cell_type": "markdown",
   "id": "9554eede",
   "metadata": {},
   "source": [
    "## **10. Discussion**\n",
    "- Compare results from different points.\n",
    "- Discuss differences between high and low concentration regions.\n",
    "- Suggest physical interpretations of observed patterns."
   ]
  }
 ],
 "metadata": {},
 "nbformat": 4,
 "nbformat_minor": 5
}
