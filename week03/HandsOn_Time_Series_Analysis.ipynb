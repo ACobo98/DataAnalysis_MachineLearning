{
  "cells": [
    {
      "cell_type": "markdown",
      "id": "fdedf503",
      "metadata": {
        "id": "fdedf503"
      },
      "source": [
        "# Hands-On: Time Series Analysis (Physics) — 1.5h\n",
        "\n",
        "**Topics:** Autocorrelation, ARIMA, Fourier, Wavelets  \n",
        "**Dataset:** Monthly Sunspot Numbers (astronomy/solar physics; bundled with `statsmodels`).  \n",
        "**Goal:** Apply core time-series tools to a real physics time series and interpret results like a physicist (oscillations, periodicities, prediction).\n",
        "\n"
      ]
    },
    {
      "cell_type": "markdown",
      "id": "27fa4f46",
      "metadata": {
        "id": "27fa4f46"
      },
      "source": [
        "## Learning outcomes\n",
        "By the end, you should be able to:\n",
        "- Load a physics time series and get it into a tidy format.\n",
        "- Inspect autocorrelation structures and reason about stationarity.\n",
        "- Fit and diagnose an **ARIMA** model for short-term forecasting.\n",
        "- Use **FFT** to estimate dominant periodicities (power spectrum).\n",
        "- Use **wavelets** to reveal **time-varying** periodic content."
      ]
    },
    {
      "cell_type": "markdown",
      "id": "d7112120",
      "metadata": {
        "id": "d7112120"
      },
      "source": [
        "## Environment & Setup\n",
        "This notebook requires:\n",
        "- Python ≥ 3.9\n",
        "- `numpy`, `pandas`, `matplotlib`, `scipy`, `statsmodels`, `pywt` (PyWavelets)\n",
        "\n",
        "> If `pywt` is not available, the code will fall back to a Morlet-based CWT via `scipy.signal.cwt`."
      ]
    },
    {
      "cell_type": "markdown",
      "id": "33d35726",
      "metadata": {
        "id": "33d35726"
      },
      "source": [
        "## 1) Load Physics Data: Monthly Sunspot Numbers\n",
        "**Why sunspots?** They are a classic physics/astronomy time series with known ~11-year cycles.  \n",
        "We use the dataset bundled with `statsmodels` : sm.datasets.sunspots.load_pandas()"
      ]
    },
    {
      "cell_type": "code",
      "execution_count": 3,
      "id": "42ee45a6",
      "metadata": {
        "colab": {
          "base_uri": "https://localhost:8080/",
          "height": 206
        },
        "id": "42ee45a6",
        "outputId": "8bca4fde-37b6-4109-c153-84ba9c21441a"
      },
      "outputs": [
        {
          "output_type": "execute_result",
          "data": {
            "text/plain": [
              "     YEAR  SUNACTIVITY\n",
              "0  1700.0          5.0\n",
              "1  1701.0         11.0\n",
              "2  1702.0         16.0\n",
              "3  1703.0         23.0\n",
              "4  1704.0         36.0"
            ],
            "text/html": [
              "\n",
              "  <div id=\"df-bd582e0c-92fa-4e68-967b-ddf38a7ea2c6\" class=\"colab-df-container\">\n",
              "    <div>\n",
              "<style scoped>\n",
              "    .dataframe tbody tr th:only-of-type {\n",
              "        vertical-align: middle;\n",
              "    }\n",
              "\n",
              "    .dataframe tbody tr th {\n",
              "        vertical-align: top;\n",
              "    }\n",
              "\n",
              "    .dataframe thead th {\n",
              "        text-align: right;\n",
              "    }\n",
              "</style>\n",
              "<table border=\"1\" class=\"dataframe\">\n",
              "  <thead>\n",
              "    <tr style=\"text-align: right;\">\n",
              "      <th></th>\n",
              "      <th>YEAR</th>\n",
              "      <th>SUNACTIVITY</th>\n",
              "    </tr>\n",
              "  </thead>\n",
              "  <tbody>\n",
              "    <tr>\n",
              "      <th>0</th>\n",
              "      <td>1700.0</td>\n",
              "      <td>5.0</td>\n",
              "    </tr>\n",
              "    <tr>\n",
              "      <th>1</th>\n",
              "      <td>1701.0</td>\n",
              "      <td>11.0</td>\n",
              "    </tr>\n",
              "    <tr>\n",
              "      <th>2</th>\n",
              "      <td>1702.0</td>\n",
              "      <td>16.0</td>\n",
              "    </tr>\n",
              "    <tr>\n",
              "      <th>3</th>\n",
              "      <td>1703.0</td>\n",
              "      <td>23.0</td>\n",
              "    </tr>\n",
              "    <tr>\n",
              "      <th>4</th>\n",
              "      <td>1704.0</td>\n",
              "      <td>36.0</td>\n",
              "    </tr>\n",
              "  </tbody>\n",
              "</table>\n",
              "</div>\n",
              "    <div class=\"colab-df-buttons\">\n",
              "\n",
              "  <div class=\"colab-df-container\">\n",
              "    <button class=\"colab-df-convert\" onclick=\"convertToInteractive('df-bd582e0c-92fa-4e68-967b-ddf38a7ea2c6')\"\n",
              "            title=\"Convert this dataframe to an interactive table.\"\n",
              "            style=\"display:none;\">\n",
              "\n",
              "  <svg xmlns=\"http://www.w3.org/2000/svg\" height=\"24px\" viewBox=\"0 -960 960 960\">\n",
              "    <path d=\"M120-120v-720h720v720H120Zm60-500h600v-160H180v160Zm220 220h160v-160H400v160Zm0 220h160v-160H400v160ZM180-400h160v-160H180v160Zm440 0h160v-160H620v160ZM180-180h160v-160H180v160Zm440 0h160v-160H620v160Z\"/>\n",
              "  </svg>\n",
              "    </button>\n",
              "\n",
              "  <style>\n",
              "    .colab-df-container {\n",
              "      display:flex;\n",
              "      gap: 12px;\n",
              "    }\n",
              "\n",
              "    .colab-df-convert {\n",
              "      background-color: #E8F0FE;\n",
              "      border: none;\n",
              "      border-radius: 50%;\n",
              "      cursor: pointer;\n",
              "      display: none;\n",
              "      fill: #1967D2;\n",
              "      height: 32px;\n",
              "      padding: 0 0 0 0;\n",
              "      width: 32px;\n",
              "    }\n",
              "\n",
              "    .colab-df-convert:hover {\n",
              "      background-color: #E2EBFA;\n",
              "      box-shadow: 0px 1px 2px rgba(60, 64, 67, 0.3), 0px 1px 3px 1px rgba(60, 64, 67, 0.15);\n",
              "      fill: #174EA6;\n",
              "    }\n",
              "\n",
              "    .colab-df-buttons div {\n",
              "      margin-bottom: 4px;\n",
              "    }\n",
              "\n",
              "    [theme=dark] .colab-df-convert {\n",
              "      background-color: #3B4455;\n",
              "      fill: #D2E3FC;\n",
              "    }\n",
              "\n",
              "    [theme=dark] .colab-df-convert:hover {\n",
              "      background-color: #434B5C;\n",
              "      box-shadow: 0px 1px 3px 1px rgba(0, 0, 0, 0.15);\n",
              "      filter: drop-shadow(0px 1px 2px rgba(0, 0, 0, 0.3));\n",
              "      fill: #FFFFFF;\n",
              "    }\n",
              "  </style>\n",
              "\n",
              "    <script>\n",
              "      const buttonEl =\n",
              "        document.querySelector('#df-bd582e0c-92fa-4e68-967b-ddf38a7ea2c6 button.colab-df-convert');\n",
              "      buttonEl.style.display =\n",
              "        google.colab.kernel.accessAllowed ? 'block' : 'none';\n",
              "\n",
              "      async function convertToInteractive(key) {\n",
              "        const element = document.querySelector('#df-bd582e0c-92fa-4e68-967b-ddf38a7ea2c6');\n",
              "        const dataTable =\n",
              "          await google.colab.kernel.invokeFunction('convertToInteractive',\n",
              "                                                    [key], {});\n",
              "        if (!dataTable) return;\n",
              "\n",
              "        const docLinkHtml = 'Like what you see? Visit the ' +\n",
              "          '<a target=\"_blank\" href=https://colab.research.google.com/notebooks/data_table.ipynb>data table notebook</a>'\n",
              "          + ' to learn more about interactive tables.';\n",
              "        element.innerHTML = '';\n",
              "        dataTable['output_type'] = 'display_data';\n",
              "        await google.colab.output.renderOutput(dataTable, element);\n",
              "        const docLink = document.createElement('div');\n",
              "        docLink.innerHTML = docLinkHtml;\n",
              "        element.appendChild(docLink);\n",
              "      }\n",
              "    </script>\n",
              "  </div>\n",
              "\n",
              "\n",
              "    <div id=\"df-ced4d55e-3f60-4f44-be89-4d899280ff38\">\n",
              "      <button class=\"colab-df-quickchart\" onclick=\"quickchart('df-ced4d55e-3f60-4f44-be89-4d899280ff38')\"\n",
              "                title=\"Suggest charts\"\n",
              "                style=\"display:none;\">\n",
              "\n",
              "<svg xmlns=\"http://www.w3.org/2000/svg\" height=\"24px\"viewBox=\"0 0 24 24\"\n",
              "     width=\"24px\">\n",
              "    <g>\n",
              "        <path d=\"M19 3H5c-1.1 0-2 .9-2 2v14c0 1.1.9 2 2 2h14c1.1 0 2-.9 2-2V5c0-1.1-.9-2-2-2zM9 17H7v-7h2v7zm4 0h-2V7h2v10zm4 0h-2v-4h2v4z\"/>\n",
              "    </g>\n",
              "</svg>\n",
              "      </button>\n",
              "\n",
              "<style>\n",
              "  .colab-df-quickchart {\n",
              "      --bg-color: #E8F0FE;\n",
              "      --fill-color: #1967D2;\n",
              "      --hover-bg-color: #E2EBFA;\n",
              "      --hover-fill-color: #174EA6;\n",
              "      --disabled-fill-color: #AAA;\n",
              "      --disabled-bg-color: #DDD;\n",
              "  }\n",
              "\n",
              "  [theme=dark] .colab-df-quickchart {\n",
              "      --bg-color: #3B4455;\n",
              "      --fill-color: #D2E3FC;\n",
              "      --hover-bg-color: #434B5C;\n",
              "      --hover-fill-color: #FFFFFF;\n",
              "      --disabled-bg-color: #3B4455;\n",
              "      --disabled-fill-color: #666;\n",
              "  }\n",
              "\n",
              "  .colab-df-quickchart {\n",
              "    background-color: var(--bg-color);\n",
              "    border: none;\n",
              "    border-radius: 50%;\n",
              "    cursor: pointer;\n",
              "    display: none;\n",
              "    fill: var(--fill-color);\n",
              "    height: 32px;\n",
              "    padding: 0;\n",
              "    width: 32px;\n",
              "  }\n",
              "\n",
              "  .colab-df-quickchart:hover {\n",
              "    background-color: var(--hover-bg-color);\n",
              "    box-shadow: 0 1px 2px rgba(60, 64, 67, 0.3), 0 1px 3px 1px rgba(60, 64, 67, 0.15);\n",
              "    fill: var(--button-hover-fill-color);\n",
              "  }\n",
              "\n",
              "  .colab-df-quickchart-complete:disabled,\n",
              "  .colab-df-quickchart-complete:disabled:hover {\n",
              "    background-color: var(--disabled-bg-color);\n",
              "    fill: var(--disabled-fill-color);\n",
              "    box-shadow: none;\n",
              "  }\n",
              "\n",
              "  .colab-df-spinner {\n",
              "    border: 2px solid var(--fill-color);\n",
              "    border-color: transparent;\n",
              "    border-bottom-color: var(--fill-color);\n",
              "    animation:\n",
              "      spin 1s steps(1) infinite;\n",
              "  }\n",
              "\n",
              "  @keyframes spin {\n",
              "    0% {\n",
              "      border-color: transparent;\n",
              "      border-bottom-color: var(--fill-color);\n",
              "      border-left-color: var(--fill-color);\n",
              "    }\n",
              "    20% {\n",
              "      border-color: transparent;\n",
              "      border-left-color: var(--fill-color);\n",
              "      border-top-color: var(--fill-color);\n",
              "    }\n",
              "    30% {\n",
              "      border-color: transparent;\n",
              "      border-left-color: var(--fill-color);\n",
              "      border-top-color: var(--fill-color);\n",
              "      border-right-color: var(--fill-color);\n",
              "    }\n",
              "    40% {\n",
              "      border-color: transparent;\n",
              "      border-right-color: var(--fill-color);\n",
              "      border-top-color: var(--fill-color);\n",
              "    }\n",
              "    60% {\n",
              "      border-color: transparent;\n",
              "      border-right-color: var(--fill-color);\n",
              "    }\n",
              "    80% {\n",
              "      border-color: transparent;\n",
              "      border-right-color: var(--fill-color);\n",
              "      border-bottom-color: var(--fill-color);\n",
              "    }\n",
              "    90% {\n",
              "      border-color: transparent;\n",
              "      border-bottom-color: var(--fill-color);\n",
              "    }\n",
              "  }\n",
              "</style>\n",
              "\n",
              "      <script>\n",
              "        async function quickchart(key) {\n",
              "          const quickchartButtonEl =\n",
              "            document.querySelector('#' + key + ' button');\n",
              "          quickchartButtonEl.disabled = true;  // To prevent multiple clicks.\n",
              "          quickchartButtonEl.classList.add('colab-df-spinner');\n",
              "          try {\n",
              "            const charts = await google.colab.kernel.invokeFunction(\n",
              "                'suggestCharts', [key], {});\n",
              "          } catch (error) {\n",
              "            console.error('Error during call to suggestCharts:', error);\n",
              "          }\n",
              "          quickchartButtonEl.classList.remove('colab-df-spinner');\n",
              "          quickchartButtonEl.classList.add('colab-df-quickchart-complete');\n",
              "        }\n",
              "        (() => {\n",
              "          let quickchartButtonEl =\n",
              "            document.querySelector('#df-ced4d55e-3f60-4f44-be89-4d899280ff38 button');\n",
              "          quickchartButtonEl.style.display =\n",
              "            google.colab.kernel.accessAllowed ? 'block' : 'none';\n",
              "        })();\n",
              "      </script>\n",
              "    </div>\n",
              "\n",
              "    </div>\n",
              "  </div>\n"
            ],
            "application/vnd.google.colaboratory.intrinsic+json": {
              "type": "dataframe",
              "variable_name": "sun",
              "summary": "{\n  \"name\": \"sun\",\n  \"rows\": 309,\n  \"fields\": [\n    {\n      \"column\": \"YEAR\",\n      \"properties\": {\n        \"dtype\": \"number\",\n        \"std\": 89.34483756770729,\n        \"min\": 1700.0,\n        \"max\": 2008.0,\n        \"num_unique_values\": 309,\n        \"samples\": [\n          1988.0,\n          1709.0,\n          1757.0\n        ],\n        \"semantic_type\": \"\",\n        \"description\": \"\"\n      }\n    },\n    {\n      \"column\": \"SUNACTIVITY\",\n      \"properties\": {\n        \"dtype\": \"number\",\n        \"std\": 40.452594956844095,\n        \"min\": 0.0,\n        \"max\": 190.2,\n        \"num_unique_values\": 256,\n        \"samples\": [\n          12.6,\n          29.0,\n          4.1\n        ],\n        \"semantic_type\": \"\",\n        \"description\": \"\"\n      }\n    }\n  ]\n}"
            }
          },
          "metadata": {},
          "execution_count": 3
        }
      ],
      "source": [
        "\n",
        "# Load monthly sunspot data (built-in, 1700–2008)\n",
        "sun = sm.datasets.sunspots.load_pandas().data\n",
        "sun.head()"
      ]
    },
    {
      "cell_type": "code",
      "execution_count": 4,
      "id": "d1e9c068",
      "metadata": {
        "colab": {
          "base_uri": "https://localhost:8080/",
          "height": 272
        },
        "id": "d1e9c068",
        "outputId": "954cfce6-1157-4dd8-b76e-8f85d4f9dacf"
      },
      "outputs": [
        {
          "output_type": "execute_result",
          "data": {
            "text/plain": [
              "YEAR\n",
              "1700-01-01     5.0\n",
              "1701-01-01    11.0\n",
              "1702-01-01    16.0\n",
              "1703-01-01    23.0\n",
              "1704-01-01    36.0\n",
              "Name: sunspots, dtype: float64"
            ],
            "text/html": [
              "<div>\n",
              "<style scoped>\n",
              "    .dataframe tbody tr th:only-of-type {\n",
              "        vertical-align: middle;\n",
              "    }\n",
              "\n",
              "    .dataframe tbody tr th {\n",
              "        vertical-align: top;\n",
              "    }\n",
              "\n",
              "    .dataframe thead th {\n",
              "        text-align: right;\n",
              "    }\n",
              "</style>\n",
              "<table border=\"1\" class=\"dataframe\">\n",
              "  <thead>\n",
              "    <tr style=\"text-align: right;\">\n",
              "      <th></th>\n",
              "      <th>sunspots</th>\n",
              "    </tr>\n",
              "    <tr>\n",
              "      <th>YEAR</th>\n",
              "      <th></th>\n",
              "    </tr>\n",
              "  </thead>\n",
              "  <tbody>\n",
              "    <tr>\n",
              "      <th>1700-01-01</th>\n",
              "      <td>5.0</td>\n",
              "    </tr>\n",
              "    <tr>\n",
              "      <th>1701-01-01</th>\n",
              "      <td>11.0</td>\n",
              "    </tr>\n",
              "    <tr>\n",
              "      <th>1702-01-01</th>\n",
              "      <td>16.0</td>\n",
              "    </tr>\n",
              "    <tr>\n",
              "      <th>1703-01-01</th>\n",
              "      <td>23.0</td>\n",
              "    </tr>\n",
              "    <tr>\n",
              "      <th>1704-01-01</th>\n",
              "      <td>36.0</td>\n",
              "    </tr>\n",
              "  </tbody>\n",
              "</table>\n",
              "</div><br><label><b>dtype:</b> float64</label>"
            ]
          },
          "metadata": {},
          "execution_count": 4
        }
      ],
      "source": [
        "\n",
        "# Make a proper datetime index and tidy series\n",
        "sun['YEAR'] = sun['YEAR'].astype(int)\n",
        "# The dataset has 'SUNACTIVITY' per **year**, but there's also a monthly version in statsmodels.\n",
        "# We'll instead use the **monthly** sunspots dataset: 'sm.tsa.datasets.sunspots' (deprecated in some versions).\n",
        "# Robust path: use the classic yearly first, then try to fetch monthly if available.\n",
        "\n",
        "try:\n",
        "    # Some statsmodels versions expose monthly sunspots here:\n",
        "    from statsmodels.datasets import sunspots as sm_sun_monthly\n",
        "    sun_m = sm_sun_monthly.load_pandas().data.copy()\n",
        "    # Columns often include 'YEAR' and 'SUNACTIVITY'; monthly sometimes includes 'MONTH'\n",
        "    if 'MONTH' in sun_m.columns:\n",
        "        sun_m['MONTH'] = sun_m['MONTH'].astype(int)\n",
        "        sun_m['DATE'] = pd.to_datetime(dict(year=sun_m['YEAR'].astype(int),\n",
        "                                           month=sun_m['MONTH'].astype(int),\n",
        "                                           day=1))\n",
        "        ts = pd.Series(sun_m['SUNACTIVITY'].values, index=sun_m['DATE']).sort_index()\n",
        "    else:\n",
        "        # Fallback: construct a monthly index from year fractions if present\n",
        "        if 'PERIOD' in sun_m.columns:\n",
        "            # PERIOD might be fractional year; convert to datetime approx by month\n",
        "            years = sun_m['YEAR'].astype(int)\n",
        "            months = ((sun_m['PERIOD'] - np.floor(sun_m['PERIOD'])) * 12 + 1).round().astype(int).clip(1,12)\n",
        "            sun_m['DATE'] = pd.to_datetime(dict(year=years, month=months, day=1))\n",
        "            ts = pd.Series(sun_m['SUNACTIVITY'].values, index=sun_m['DATE']).sort_index()\n",
        "        else:\n",
        "            # As last resort, stick to yearly\n",
        "            ts = pd.Series(sun['SUNACTIVITY'].values, index=pd.to_datetime(sun['YEAR'], format='%Y'))\n",
        "except Exception:\n",
        "    # Fall back to yearly data only\n",
        "    ts = pd.Series(sun['SUNACTIVITY'].values, index=pd.to_datetime(sun['YEAR'], format='%Y'))\n",
        "\n",
        "ts = ts.asfreq('MS') if ts.index.inferred_type in ('datetime64', 'datetime') else ts\n",
        "ts = ts.dropna()\n",
        "ts.name = 'sunspots'\n",
        "ts.head()"
      ]
    },
    {
      "cell_type": "code",
      "execution_count": 6,
      "id": "dbe23db6",
      "metadata": {
        "colab": {
          "base_uri": "https://localhost:8080/",
          "height": 410
        },
        "id": "dbe23db6",
        "outputId": "255675b1-f04b-41e3-bcbf-615f410428b8"
      },
      "outputs": [
        {
          "output_type": "display_data",
          "data": {
            "text/plain": [
              "<Figure size 800x400 with 1 Axes>"
            ],
            "image/png": "[encoded data removed]"
          },
          "metadata": {}
        }
      ],
      "source": [
        "\n",
        "# Quick visualization\n",
        "ax = ts.plot(title='Sunspot Activity (monthly or yearly depending on availability)')\n",
        "ax.set_xlabel('Time')\n",
        "ax.set_ylabel('Sunspot number')\n",
        "plt.show()"
      ]
    },
    {
      "cell_type": "markdown",
      "id": "d5dd8cb3",
      "metadata": {
        "id": "d5dd8cb3"
      },
      "source": [
        "### Task 1.1 — Basic Exploration\n",
        "1. Compute summary stats: mean, std, min, max.  \n",
        "2. Plot a rolling mean and rolling std (window=24 months if monthly, or window=5 if yearly).  \n",
        "3. Comment: do you see long-term cycles?"
      ]
    },
    {
      "cell_type": "markdown",
      "id": "1b6e125e",
      "metadata": {
        "id": "1b6e125e"
      },
      "source": [
        "## 2) Autocorrelation & Stationarity\n",
        "Examine the **autocorrelation function (ACF)** and **partial autocorrelation (PACF)**.  \n",
        "Run an **ADF test** (Augmented Dickey–Fuller) to gauge stationarity."
      ]
    },
    {
      "cell_type": "markdown",
      "id": "e57b7be6",
      "metadata": {
        "id": "e57b7be6"
      },
      "source": [
        "### Task 2.1 — Differencing (if needed)\n",
        "If the series looks non-stationary, difference it (e.g., `ts.diff().dropna()` or seasonal diff `ts.diff(12)`) and repeat ACF/PACF & ADF.  \n",
        "**Question:** What differencing makes it *most* stationary without over-differencing?"
      ]
    },
    {
      "cell_type": "markdown",
      "id": "f1618568",
      "metadata": {
        "id": "f1618568"
      },
      "source": [
        "## 3) ARIMA Modeling\n"
      ]
    },
    {
      "cell_type": "markdown",
      "source": [
        "### Task 3.1 — Choose an ARIMA (or seasonal ARIMA) based on ACF/PACF cues and iterate quickly.  \n",
        "**Tip:** Start simple (ARIMA(p, d, q)), then try seasonal (SARIMA) if strong seasonality is present (monthly → possibly `m=12`)."
      ],
      "metadata": {
        "id": "le9bd3AMfriz"
      },
      "id": "le9bd3AMfriz"
    },
    {
      "cell_type": "markdown",
      "id": "77f75d70",
      "metadata": {
        "id": "77f75d70"
      },
      "source": [
        "### Task 3.2 — Seasonal ARIMA (Optional if time)\n",
        "If `MS` (monthly) data is available: try a small seasonal model, e.g. `SARIMA(p, d, q) x (P, D, Q, 12)`."
      ]
    },
    {
      "cell_type": "markdown",
      "id": "da124152",
      "metadata": {
        "id": "da124152"
      },
      "source": [
        "## 4) Fourier Analysis (FFT)\n",
        "Compute the **power spectrum** via FFT to identify dominant periodicities (e.g., the ~11-year sunspot cycle).  \n",
        "We convert to zero-mean, apply a window, compute FFT magnitude, and plot vs. frequency."
      ]
    },
    {
      "cell_type": "markdown",
      "id": "32c41b80",
      "metadata": {
        "id": "32c41b80"
      },
      "source": [
        "### Task 4.1 — Windowing & Detrending\n",
        "Try different windows (`np.hanning`, `np.hamming`) and detrending (remove linear trend using `signal.detrend`).  \n",
        "**Question:** How sensitive is the dominant period to preprocessing?"
      ]
    },
    {
      "cell_type": "markdown",
      "id": "22a4e2c1",
      "metadata": {
        "id": "22a4e2c1"
      },
      "source": [
        "## 5) Wavelet Analysis\n",
        "Wavelets show **how** dominant periods evolve over time.  \n",
        "We use the **Morlet** wavelet via PyWavelets (`cwt`) if available; otherwise use SciPy's `signal.cwt`."
      ]
    },
    {
      "cell_type": "markdown",
      "id": "eabffaae",
      "metadata": {
        "id": "eabffaae"
      },
      "source": [
        "### Task 5.1 — Interpret time-localized periodicities\n",
        "- Identify bands/scales of strong power.\n",
        "- Do you see changes in periodicity strength over time? How does this compare to the FFT results?"
      ]
    },
    {
      "cell_type": "markdown",
      "id": "dbeef50e",
      "metadata": {
        "id": "dbeef50e"
      },
      "source": [
        "## 6) Wrap-up (Short Reflection)\n",
        "- What does ACF/PACF tell you about memory and seasonality?\n",
        "- Compare ARIMA forecasts with physical expectations (e.g., cycle phases).\n",
        "- How do FFT vs. Wavelets complement each other?\n",
        "- If you had **no stationarity**, which tool(s) would you trust more and why?"
      ]
    }
  ],
  "metadata": {
    "colab": {
      "provenance": []
    },
    "language_info": {
      "name": "python"
    },
    "kernelspec": {
      "name": "python3",
      "display_name": "Python 3"
    }
  },
  "nbformat": 4,
  "nbformat_minor": 5
}