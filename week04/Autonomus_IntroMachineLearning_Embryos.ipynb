{
  "cells": [
    {
      "cell_type": "markdown",
      "id": "163b1f6c",
      "metadata": {
        "id": "163b1f6c"
      },
      "source": [
        "\n",
        "# Autonomous Activity: Classical ML Pipeline on Embryo Timelapse\n",
        "\n",
        "**Dataset:** Six time-lapse `.tif` stacks — **2 controls** and **4 mutants**  \n",
        "**Biological types:**\n",
        "- **control**: `Control1`, `Control2`\n",
        "- **mutantA**: `Mutant1`, `Mutant3`\n",
        "- **mutantB**: `Mutant2`, `Mutant4`\n",
        "\n",
        "📁 **Dataset:** [Google Drive Link](https://drive.google.com/drive/folders/1_qxqm-v5yCrme3pAW2rjyOOXIeQDuV54?usp=drive_link)\n",
        "\n",
        "You will build a complete classical ML pipeline using **per-frame image features**.\n",
        "\n",
        "## Learning goals\n",
        "1. **Regression** — predict developmental time (frame index).  \n",
        "2. **Classification** — (a) 6-class embryo ID, (b) 3-class biological type.  \n",
        "3. **Clustering** — explore structures and compare with biological types.  \n",
        "4. **Dimensionality Reduction** — PCA, t‑SNE, UMAP; plot per-embryo **trajectories**.  \n",
        "5. **Cross‑Validation** — use GroupKFold to avoid leakage across embryos.  \n",
        "6. **Bias–Variance** — analyze learning and validation curves.\n",
        "\n",
        "> **No leakage rule:** never mix frames of the **same embryo** across train and test folds.\n"
      ]
    },
    {
      "cell_type": "markdown",
      "id": "b5f3a6dd",
      "metadata": {
        "id": "b5f3a6dd"
      },
      "source": [
        "\n",
        "## 0) Environment setup\n",
        "\n",
        "**Task:** Install the required packages and verify imports.\n"
      ]
    },
    {
      "cell_type": "code",
      "execution_count": 1,
      "id": "0b456e06",
      "metadata": {
        "colab": {
          "base_uri": "https://localhost:8080/"
        },
        "id": "0b456e06",
        "outputId": "c3cedcd8-ee4b-4714-cbbf-212cb8a1deec"
      },
      "outputs": [
        {
          "output_type": "stream",
          "name": "stdout",
          "text": [
            "Environment ready.\n"
          ]
        }
      ],
      "source": [
        "\n",
        "\n"
      ]
    },
    {
      "cell_type": "markdown",
      "id": "018a79b4",
      "metadata": {
        "id": "018a79b4"
      },
      "source": [
        "\n",
        "## 1) Download the 6 TIFF stacks\n",
        "\n",
        "**Task:** Place your files under a local `data/` folder with the exact names below.  \n",
        "If using Colab, you may download the shared folder with `gdown`:\n",
        "\n",
        "- `data/Control1.tif`\n",
        "- `data/Control2.tif`\n",
        "- `data/Mutant1.tif`   *(mutantA)*\n",
        "- `data/Mutant2.tif`   *(mutantB)*\n",
        "- `data/Mutant3.tif`   *(mutantA)*\n",
        "- `data/Mutant4.tif`   *(mutantB)*\n"
      ]
    },
    {
      "cell_type": "code",
      "execution_count": 2,
      "id": "ddfc9ca0",
      "metadata": {
        "id": "ddfc9ca0"
      },
      "outputs": [],
      "source": [
        "\n",
        "\n"
      ]
    },
    {
      "cell_type": "markdown",
      "id": "1bc75114",
      "metadata": {
        "id": "1bc75114"
      },
      "source": [
        "\n",
        "## 2) Load data and define labels\n",
        "\n",
        "**Task:**\n",
        "1. Confirm each `.tif` is a stack of shape `(T, H, W)`.\n",
        "2. Build a tidy `DataFrame` with **one row per frame** and the columns:\n",
        "   - `embryo_id` ∈ {Control1, Control2, Mutant1, Mutant2, Mutant3, Mutant4}\n",
        "   - `type3` ∈ {`control`, `mutantA`, `mutantB`}\n",
        "   - `frame` ∈ {0..T-1}\n",
        "   - Per-frame features (computed in the next cell)\n",
        "3. Print basic counts by `embryo_id` and `type3`.\n"
      ]
    },
    {
      "cell_type": "code",
      "execution_count": 3,
      "id": "56f8cf92",
      "metadata": {
        "colab": {
          "base_uri": "https://localhost:8080/",
          "height": 512
        },
        "id": "56f8cf92",
        "outputId": "ca30abfd-9246-408f-90fd-27b0c0d5772a"
      },
      "outputs": [
        {
          "output_type": "stream",
          "name": "stdout",
          "text": [
            "⚠️ Missing file: data/Control1.tif — please place your TIFFs under ./data\n",
            "⚠️ Missing file: data/Control2.tif — please place your TIFFs under ./data\n",
            "⚠️ Missing file: data/Mutant1.tif — please place your TIFFs under ./data\n",
            "⚠️ Missing file: data/Mutant2.tif — please place your TIFFs under ./data\n",
            "⚠️ Missing file: data/Mutant3.tif — please place your TIFFs under ./data\n",
            "⚠️ Missing file: data/Mutant4.tif — please place your TIFFs under ./data\n",
            "Empty DataFrame\n",
            "Columns: []\n",
            "Index: []\n"
          ]
        },
        {
          "output_type": "error",
          "ename": "KeyError",
          "evalue": "'embryo_id'",
          "traceback": [
            "\u001b[0;31m---------------------------------------------------------------------------\u001b[0m",
            "\u001b[0;31mKeyError\u001b[0m                                  Traceback (most recent call last)",
            "\u001b[0;32m/tmp/ipython-input-284459179.py\u001b[0m in \u001b[0;36m<cell line: 0>\u001b[0;34m()\u001b[0m\n\u001b[1;32m     49\u001b[0m \u001b[0mdf\u001b[0m \u001b[0;34m=\u001b[0m \u001b[0mpd\u001b[0m\u001b[0;34m.\u001b[0m\u001b[0mDataFrame\u001b[0m\u001b[0;34m(\u001b[0m\u001b[0mrows\u001b[0m\u001b[0;34m)\u001b[0m\u001b[0;34m\u001b[0m\u001b[0;34m\u001b[0m\u001b[0m\n\u001b[1;32m     50\u001b[0m \u001b[0mprint\u001b[0m\u001b[0;34m(\u001b[0m\u001b[0mdf\u001b[0m\u001b[0;34m.\u001b[0m\u001b[0mhead\u001b[0m\u001b[0;34m(\u001b[0m\u001b[0;34m)\u001b[0m\u001b[0;34m)\u001b[0m\u001b[0;34m\u001b[0m\u001b[0;34m\u001b[0m\u001b[0m\n\u001b[0;32m---> 51\u001b[0;31m \u001b[0mprint\u001b[0m\u001b[0;34m(\u001b[0m\u001b[0;34m\"\\nCounts by embryo_id:\\n\"\u001b[0m\u001b[0;34m,\u001b[0m \u001b[0mdf\u001b[0m\u001b[0;34m.\u001b[0m\u001b[0mgroupby\u001b[0m\u001b[0;34m(\u001b[0m\u001b[0;34m\"embryo_id\"\u001b[0m\u001b[0;34m)\u001b[0m\u001b[0;34m.\u001b[0m\u001b[0msize\u001b[0m\u001b[0;34m(\u001b[0m\u001b[0;34m)\u001b[0m\u001b[0;34m)\u001b[0m\u001b[0;34m\u001b[0m\u001b[0;34m\u001b[0m\u001b[0m\n\u001b[0m\u001b[1;32m     52\u001b[0m \u001b[0mprint\u001b[0m\u001b[0;34m(\u001b[0m\u001b[0;34m\"\\nCounts by type3:\\n\"\u001b[0m\u001b[0;34m,\u001b[0m \u001b[0mdf\u001b[0m\u001b[0;34m.\u001b[0m\u001b[0mgroupby\u001b[0m\u001b[0;34m(\u001b[0m\u001b[0;34m\"type3\"\u001b[0m\u001b[0;34m)\u001b[0m\u001b[0;34m.\u001b[0m\u001b[0msize\u001b[0m\u001b[0;34m(\u001b[0m\u001b[0;34m)\u001b[0m\u001b[0;34m)\u001b[0m\u001b[0;34m\u001b[0m\u001b[0;34m\u001b[0m\u001b[0m\n\u001b[1;32m     53\u001b[0m \u001b[0;34m\u001b[0m\u001b[0m\n",
            "\u001b[0;32m/usr/local/lib/python3.12/dist-packages/pandas/core/frame.py\u001b[0m in \u001b[0;36mgroupby\u001b[0;34m(self, by, axis, level, as_index, sort, group_keys, observed, dropna)\u001b[0m\n\u001b[1;32m   9181\u001b[0m             \u001b[0;32mraise\u001b[0m \u001b[0mTypeError\u001b[0m\u001b[0;34m(\u001b[0m\u001b[0;34m\"You have to supply one of 'by' and 'level'\"\u001b[0m\u001b[0;34m)\u001b[0m\u001b[0;34m\u001b[0m\u001b[0;34m\u001b[0m\u001b[0m\n\u001b[1;32m   9182\u001b[0m \u001b[0;34m\u001b[0m\u001b[0m\n\u001b[0;32m-> 9183\u001b[0;31m         return DataFrameGroupBy(\n\u001b[0m\u001b[1;32m   9184\u001b[0m             \u001b[0mobj\u001b[0m\u001b[0;34m=\u001b[0m\u001b[0mself\u001b[0m\u001b[0;34m,\u001b[0m\u001b[0;34m\u001b[0m\u001b[0;34m\u001b[0m\u001b[0m\n\u001b[1;32m   9185\u001b[0m             \u001b[0mkeys\u001b[0m\u001b[0;34m=\u001b[0m\u001b[0mby\u001b[0m\u001b[0;34m,\u001b[0m\u001b[0;34m\u001b[0m\u001b[0;34m\u001b[0m\u001b[0m\n",
            "\u001b[0;32m/usr/local/lib/python3.12/dist-packages/pandas/core/groupby/groupby.py\u001b[0m in \u001b[0;36m__init__\u001b[0;34m(self, obj, keys, axis, level, grouper, exclusions, selection, as_index, sort, group_keys, observed, dropna)\u001b[0m\n\u001b[1;32m   1327\u001b[0m \u001b[0;34m\u001b[0m\u001b[0m\n\u001b[1;32m   1328\u001b[0m         \u001b[0;32mif\u001b[0m \u001b[0mgrouper\u001b[0m \u001b[0;32mis\u001b[0m \u001b[0;32mNone\u001b[0m\u001b[0;34m:\u001b[0m\u001b[0;34m\u001b[0m\u001b[0;34m\u001b[0m\u001b[0m\n\u001b[0;32m-> 1329\u001b[0;31m             grouper, exclusions, obj = get_grouper(\n\u001b[0m\u001b[1;32m   1330\u001b[0m                 \u001b[0mobj\u001b[0m\u001b[0;34m,\u001b[0m\u001b[0;34m\u001b[0m\u001b[0;34m\u001b[0m\u001b[0m\n\u001b[1;32m   1331\u001b[0m                 \u001b[0mkeys\u001b[0m\u001b[0;34m,\u001b[0m\u001b[0;34m\u001b[0m\u001b[0;34m\u001b[0m\u001b[0m\n",
            "\u001b[0;32m/usr/local/lib/python3.12/dist-packages/pandas/core/groupby/grouper.py\u001b[0m in \u001b[0;36mget_grouper\u001b[0;34m(obj, key, axis, level, sort, observed, validate, dropna)\u001b[0m\n\u001b[1;32m   1041\u001b[0m                 \u001b[0min_axis\u001b[0m\u001b[0;34m,\u001b[0m \u001b[0mlevel\u001b[0m\u001b[0;34m,\u001b[0m \u001b[0mgpr\u001b[0m \u001b[0;34m=\u001b[0m \u001b[0;32mFalse\u001b[0m\u001b[0;34m,\u001b[0m \u001b[0mgpr\u001b[0m\u001b[0;34m,\u001b[0m \u001b[0;32mNone\u001b[0m\u001b[0;34m\u001b[0m\u001b[0;34m\u001b[0m\u001b[0m\n\u001b[1;32m   1042\u001b[0m             \u001b[0;32melse\u001b[0m\u001b[0;34m:\u001b[0m\u001b[0;34m\u001b[0m\u001b[0;34m\u001b[0m\u001b[0m\n\u001b[0;32m-> 1043\u001b[0;31m                 \u001b[0;32mraise\u001b[0m \u001b[0mKeyError\u001b[0m\u001b[0;34m(\u001b[0m\u001b[0mgpr\u001b[0m\u001b[0;34m)\u001b[0m\u001b[0;34m\u001b[0m\u001b[0;34m\u001b[0m\u001b[0m\n\u001b[0m\u001b[1;32m   1044\u001b[0m         \u001b[0;32melif\u001b[0m \u001b[0misinstance\u001b[0m\u001b[0;34m(\u001b[0m\u001b[0mgpr\u001b[0m\u001b[0;34m,\u001b[0m \u001b[0mGrouper\u001b[0m\u001b[0;34m)\u001b[0m \u001b[0;32mand\u001b[0m \u001b[0mgpr\u001b[0m\u001b[0;34m.\u001b[0m\u001b[0mkey\u001b[0m \u001b[0;32mis\u001b[0m \u001b[0;32mnot\u001b[0m \u001b[0;32mNone\u001b[0m\u001b[0;34m:\u001b[0m\u001b[0;34m\u001b[0m\u001b[0;34m\u001b[0m\u001b[0m\n\u001b[1;32m   1045\u001b[0m             \u001b[0;31m# Add key to exclusions\u001b[0m\u001b[0;34m\u001b[0m\u001b[0;34m\u001b[0m\u001b[0m\n",
            "\u001b[0;31mKeyError\u001b[0m: 'embryo_id'"
          ]
        }
      ],
      "source": []
    },
    {
      "cell_type": "markdown",
      "id": "bf15d634",
      "metadata": {
        "id": "bf15d634"
      },
      "source": [
        "\n",
        "## 2.1) Feature matrix and grouping (anti-leakage)\n",
        "\n",
        "**Task:**\n",
        "- Select `feature_cols` (use at least the ones built above).\n",
        "- Build:  \n",
        "  `X` (features), `y_reg = frame`, `y_id6 = embryo_id`, `y_type3 = type3`  \n",
        "- Define `groups = embryo_id` to be used in GroupKFold.\n"
      ]
    },
    {
      "cell_type": "code",
      "execution_count": null,
      "id": "a3c248f8",
      "metadata": {
        "id": "a3c248f8"
      },
      "outputs": [],
      "source": [
        "\n"
      ]
    },
    {
      "cell_type": "markdown",
      "id": "2613c3d9",
      "metadata": {
        "id": "2613c3d9"
      },
      "source": [
        "\n",
        "## 3) Supervised Learning — Regression (frame index)\n",
        "\n",
        "**Task :**\n",
        "1. Implement 3 models using `Pipeline`:\n",
        "   - `LinearRegression` (+ `StandardScaler`)\n",
        "   - `Ridge(alpha)` — try `alpha ∈ {0.1, 1, 10}`\n",
        "   - `KNeighborsRegressor` — try `n_neighbors ∈ {3,5,7,11}` with `MinMaxScaler`\n",
        "2. Use **GroupKFold** with `n_splits = min(6, #embryos)` to evaluate **MAE** and **R²**.\n",
        "3. Report mean metrics for each model and **compare**.\n",
        "4. Plot **True vs Predicted** for one representative split.\n"
      ]
    },
    {
      "cell_type": "code",
      "execution_count": null,
      "id": "76af8837",
      "metadata": {
        "id": "76af8837"
      },
      "outputs": [],
      "source": [
        "\n",
        "\n"
      ]
    },
    {
      "cell_type": "markdown",
      "id": "a639af10",
      "metadata": {
        "id": "a639af10"
      },
      "source": [
        "\n",
        "## 4) Supervised Learning — Classification\n",
        "\n",
        "Two tasks (do **both**):\n",
        "- **ID-6:** predict `embryo_id` (6 classes)\n",
        "- **Type-3:** predict `type3` (3 classes: control, mutantA, mutantB)\n",
        "\n",
        "**Task:**\n",
        "1. Implement 3 classifiers with `Pipeline`:\n",
        "   - `LogisticRegression(max_iter=1000)`\n",
        "   - `KNeighborsClassifier`\n",
        "   - `SVC(kernel='rbf')`\n",
        "2. Evaluate with **GroupKFold**. Metrics: **Accuracy** and **F1‑macro**.\n",
        "3. Compare **ID-6** vs **Type-3** (expect Type-3 to be easier).\n",
        "4. Add confusion matrices.\n"
      ]
    },
    {
      "cell_type": "code",
      "execution_count": null,
      "id": "67413572",
      "metadata": {
        "id": "67413572"
      },
      "outputs": [],
      "source": []
    },
    {
      "cell_type": "markdown",
      "id": "1c6070af",
      "metadata": {
        "id": "1c6070af"
      },
      "source": [
        "\n",
        "## 5) Unsupervised Learning — Clustering\n",
        "\n",
        "**Task (no solutions provided):**\n",
        "1. Standardize `X` with `StandardScaler`.\n",
        "2. Apply **KMeans** and **AgglomerativeClustering** with:\n",
        "   - `n_clusters=3` (biological types)\n",
        "   - (Optional) `n_clusters=6` (embryo IDs)\n",
        "3. Compute **silhouette score** (unsupervised metric).\n",
        "4. Build crosstabs: **cluster vs `type3`** and **cluster vs `embryo_id`** (for interpretation only).\n"
      ]
    },
    {
      "cell_type": "code",
      "execution_count": null,
      "id": "62ceb8c2",
      "metadata": {
        "id": "62ceb8c2"
      },
      "outputs": [],
      "source": []
    },
    {
      "cell_type": "markdown",
      "id": "b339a5f4",
      "metadata": {
        "id": "b339a5f4"
      },
      "source": [
        "\n",
        "## 6) Dimensionality Reduction + Trajectories\n",
        "\n",
        "**Task :**\n",
        "1. Compute **PCA(2)**, **t‑SNE(2)**, and **UMAP(2)** on standardized `X`.\n",
        "2. Scatter-plot colored by `type3` (optionally also by `embryo_id`).\n",
        "3. **Trajectories:** for each `embryo_id`, sort by `frame` and **connect** points in 2D.\n",
        "4. Comment on which embedding separates **types** more clearly and which trajectories look smoother or diverge.\n"
      ]
    },
    {
      "cell_type": "code",
      "execution_count": null,
      "id": "614fe05b",
      "metadata": {
        "id": "614fe05b"
      },
      "outputs": [],
      "source": [
        "\n"
      ]
    },
    {
      "cell_type": "markdown",
      "id": "97a72f66",
      "metadata": {
        "id": "97a72f66"
      },
      "source": [
        "\n",
        "## 7) Cross‑Validation without leakage vs naïve split\n",
        "\n",
        "**Task :**\n",
        "1. Use **GroupKFold** (groups = `embryo_id`) with `LogisticRegression` for the **Type-3** task.\n",
        "2. Compare against a naïve frame-wise `train_test_split` (this leaks information).\n",
        "3. Report **Accuracy** and **F1‑macro** for both; discuss overestimation from leakage.\n"
      ]
    },
    {
      "cell_type": "code",
      "execution_count": null,
      "id": "23d6e3b4",
      "metadata": {
        "id": "23d6e3b4"
      },
      "outputs": [],
      "source": [
        "\n"
      ]
    },
    {
      "cell_type": "markdown",
      "id": "66d242a5",
      "metadata": {
        "id": "66d242a5"
      },
      "source": [
        "\n",
        "## 8) Bias–Variance and Overfitting\n",
        "\n",
        "**Task (no solutions provided):**\n",
        "1. Choose `DecisionTreeClassifier` or `KNN` for the **Type-3** task.\n",
        "2. **Learning curve:** use `learning_curve` with GroupKFold. Plot training size vs Accuracy (train vs validation).\n",
        "3. **Validation curve:** plot hyperparameter vs Accuracy (e.g., `max_depth` for a tree, or `n_neighbors` for KNN).\n",
        "4. Conclude: identify **high variance** (train ≫ val) or **high bias** (both low) and propose tuning (regularization, features, data, hyperparameters).\n"
      ]
    },
    {
      "cell_type": "code",
      "execution_count": null,
      "id": "bcb8f517",
      "metadata": {
        "id": "bcb8f517"
      },
      "outputs": [],
      "source": [
        "\n"
      ]
    },
    {
      "cell_type": "markdown",
      "id": "fbfd6cf3",
      "metadata": {
        "id": "fbfd6cf3"
      },
      "source": [
        "\n",
        "## 9) Deliverables\n",
        "\n",
        "1. **Regression (frame):** best model + settings. Report GroupKFold **MAE** and **R²**; include a True vs Predicted plot.  \n",
        "2. **Classification:** compare **ID-6** vs **Type-3**. Which models worked best? Include **Accuracy** and **F1‑macro**.  \n",
        "3. **Clustering:** does `k=3` reveal types? How does `k=6` behave? Report silhouette and discuss crosstabs.  \n",
        "4. **Dimensionality reduction:** which embedding separates **types** best? Show trajectories by `embryo_id` and discuss.  \n",
        "5. **Cross‑Validation:** quantify overestimation from naïve split vs GroupKFold.  \n",
        "6. **Bias–Variance:** interpret curves and propose next steps (regularization, features, data, hyperparameters).  \n",
        "\n"
      ]
    }
  ],
  "metadata": {
    "language_info": {
      "name": "python"
    },
    "colab": {
      "provenance": []
    },
    "kernelspec": {
      "name": "python3",
      "display_name": "Python 3"
    }
  },
  "nbformat": 4,
  "nbformat_minor": 5
}